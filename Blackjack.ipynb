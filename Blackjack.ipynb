{
 "cells": [
  {
   "cell_type": "markdown",
   "id": "0c6df435",
   "metadata": {},
   "source": [
    "### BLACKJACK GAME"
   ]
  },
  {
   "cell_type": "markdown",
   "id": "36f20f92",
   "metadata": {},
   "source": [
    "Rules:\n",
    "\n",
    "https://en.wikipedia.org/wiki/Blackjack\n",
    "\n",
    "(implemented simplified version)"
   ]
  },
  {
   "cell_type": "markdown",
   "id": "65604c26",
   "metadata": {},
   "source": [
    "IMPORTS"
   ]
  },
  {
   "cell_type": "code",
   "execution_count": null,
   "id": "f926cb4e",
   "metadata": {},
   "outputs": [],
   "source": [
    "import random"
   ]
  },
  {
   "cell_type": "markdown",
   "id": "62395b29",
   "metadata": {},
   "source": [
    "GLOBAL VARS"
   ]
  },
  {
   "cell_type": "code",
   "execution_count": null,
   "id": "6d0b5e37",
   "metadata": {},
   "outputs": [],
   "source": [
    "suits = ('Hearts', 'Diamonds', 'Spades', 'Clubs')\n",
    "ranks = ('Two', 'Three', 'Four', 'Five', 'Six', 'Seven', 'Eight', 'Nine', 'Ten', 'Jack', 'Queen', 'King', 'Ace')\n",
    "values = {'Two':2, 'Three':3, 'Four':4, 'Five':5, 'Six':6, 'Seven':7, 'Eight':8, \n",
    "            'Nine':9, 'Ten':10, 'Jack':10, 'Queen':10, 'King':10, 'Ace':11} # Ace 11 or 1\n",
    "\n",
    "playing = True"
   ]
  },
  {
   "cell_type": "markdown",
   "id": "5d7fe0de",
   "metadata": {},
   "source": [
    "CLASSES:"
   ]
  },
  {
   "cell_type": "code",
   "execution_count": null,
   "id": "cf4a607a",
   "metadata": {},
   "outputs": [],
   "source": [
    "class Card:\n",
    "    \n",
    "    def __init__(self,suit,rank):\n",
    "        self.suit = suit\n",
    "        self.rank = rank\n",
    "        \n",
    "    def __str__(self):\n",
    "        return self.rank + ' of ' + self.suit"
   ]
  },
  {
   "cell_type": "code",
   "execution_count": null,
   "id": "5effea41",
   "metadata": {},
   "outputs": [],
   "source": [
    "class Deck:\n",
    "    \n",
    "    def __init__(self,decks_num=1):        \n",
    "        self.all_cards = [] \n",
    "        for suit in suits:\n",
    "                for rank in ranks:\n",
    "                    self.all_cards.append(Card(suit,rank))\n",
    "        self.all_cards *= decks_num\n",
    "                \n",
    "    def __str__(self):\n",
    "        return \"The deck has \" + str(len(self.all_cards)) + \" cards\"\n",
    "    \n",
    "    def shuffle(self):        \n",
    "        random.shuffle(self.all_cards)\n",
    "        \n",
    "    def deal(self):        \n",
    "        return self.all_cards.pop()"
   ]
  },
  {
   "cell_type": "code",
   "execution_count": null,
   "id": "2b7c1974",
   "metadata": {},
   "outputs": [],
   "source": [
    "class Hand:\n",
    "    \n",
    "    def __init__(self):\n",
    "        self.all_cards = []\n",
    "        self.total_value = 0\n",
    "        self.aces = 0\n",
    "        \n",
    "    def add_card(self,new_card):\n",
    "        self.all_cards.append(new_card)        \n",
    "        self.total_value += values[new_card.rank]\n",
    "        if new_card.rank == 'Ace':\n",
    "            self.total_value += 1\n",
    "            \n",
    "    def adjust_for_aces(self):\n",
    "        while self.total_value > 21 and self.aces > 0:\n",
    "            self.total_value -= 10\n",
    "            self.aces -= 1\n",
    "    \n",
    "    def __str__(self):\n",
    "        return f'Hand has {len(self.all_cards)} cards of total value {self.total_value}'"
   ]
  },
  {
   "cell_type": "code",
   "execution_count": null,
   "id": "424399dd",
   "metadata": {},
   "outputs": [],
   "source": [
    "class Chips:\n",
    "    \n",
    "    def __init__(self,total=100):\n",
    "        self.total = total\n",
    "        self.bet = 0\n",
    "        \n",
    "    def win_bet(self):\n",
    "        self.total += self.bet\n",
    "            \n",
    "    def lose_bet(self):\n",
    "        self.total -= self.bet"
   ]
  },
  {
   "cell_type": "markdown",
   "id": "d3f22ad2",
   "metadata": {},
   "source": [
    "FUNCTIONS:"
   ]
  },
  {
   "cell_type": "code",
   "execution_count": null,
   "id": "56c1cea9",
   "metadata": {},
   "outputs": [],
   "source": [
    "def take_bet(chips):\n",
    "    \n",
    "    while True:\n",
    "        try:\n",
    "            chips.bet = int(input(\"How many chips do you want to bet?\"))\n",
    "        except:\n",
    "            print(\"Please, provide a number!\")\n",
    "        else:\n",
    "            if chips.bet > chips.total:\n",
    "                print(f\"Sorry, you bet can't be more than {chips.total}\")\n",
    "            else:\n",
    "                return"
   ]
  },
  {
   "cell_type": "code",
   "execution_count": null,
   "id": "fc3ca002",
   "metadata": {},
   "outputs": [],
   "source": [
    "def hit(deck,hand):\n",
    "    \n",
    "    hand.add_card(deck.deal())\n",
    "    hand.adjust_for_aces()"
   ]
  },
  {
   "cell_type": "code",
   "execution_count": null,
   "id": "e7abbc5e",
   "metadata": {},
   "outputs": [],
   "source": [
    "def hit_or_stand(deck,hand):\n",
    "    \n",
    "    global playing\n",
    "    \n",
    "    while True:\n",
    "        \n",
    "        x = input(\"Would you like to Hit or Stand? Enter 'h' or 's' \")\n",
    "        \n",
    "        if x[0].lower() == 'h':\n",
    "            hit(deck,hand)\n",
    "\n",
    "        elif x[0].lower() == 's':\n",
    "            print(\"Player stands. Dealer is playing.\")\n",
    "            playing = False\n",
    "\n",
    "        else:\n",
    "            print(\"Please, enter a correct choice (h or s)!\")\n",
    "            continue\n",
    "            \n",
    "        break"
   ]
  },
  {
   "cell_type": "code",
   "execution_count": null,
   "id": "b4b22ef9",
   "metadata": {},
   "outputs": [],
   "source": [
    "def show_some(player,dealer):\n",
    "    print(\"\\nDealer's Hand:\")\n",
    "    print(\" <card hidden>\")\n",
    "    print('',dealer.all_cards[1])  \n",
    "    print(\"\\nPlayer's Hand: \", *player.all_cards, sep='\\n ')\n",
    "    \n",
    "def show_all(player,dealer):\n",
    "    print(\"\\nDealer's Hand:\" , *dealer.all_cards, sep='\\n ')\n",
    "    print(\"Dealer's Hand =\", dealer.total_value)\n",
    "    print(\"\\nPlayer's Hand: \", *player.all_cards, sep='\\n ')\n",
    "    print(\"Player's Hand = \", player.total_value)"
   ]
  },
  {
   "cell_type": "code",
   "execution_count": null,
   "id": "a1de5d0f",
   "metadata": {},
   "outputs": [],
   "source": [
    "def player_busts(player,dealer,chips):\n",
    "    print(\"Player busts!\")\n",
    "    chips.lose_bet()\n",
    "\n",
    "def player_wins(player,dealer,chips):\n",
    "    print(\"Player wins!\")\n",
    "    chips.win_bet()\n",
    "\n",
    "def dealer_busts(player,dealer,chips):\n",
    "    print(\"Dealer busts!\")\n",
    "    chips.win_bet()\n",
    "    \n",
    "def dealer_wins(player,dealer,chips):\n",
    "    print(\"Dealer wins!\")\n",
    "    chips.lose_bet()\n",
    "    \n",
    "def push(player,dealer):\n",
    "    print(\"Dealer and Player tie! It's a push.\")"
   ]
  },
  {
   "cell_type": "markdown",
   "id": "bcfaea41",
   "metadata": {},
   "source": [
    "GAME:"
   ]
  },
  {
   "cell_type": "code",
   "execution_count": null,
   "id": "e48233b4",
   "metadata": {},
   "outputs": [],
   "source": [
    "while True:\n",
    "    # Print an opening statement\n",
    "    print('Welcome to BlackJack!\\nGet as close to 21 as you can without going over!\\nDealer hits until he/she reaches 17.\\nAces count as 1 or 11.')\n",
    "    \n",
    "    # Create & shuffle the deck, deal two cards to each player\n",
    "    deck = Deck()\n",
    "    deck.shuffle()\n",
    "    \n",
    "    player_hand = Hand()\n",
    "    player_hand.add_card(deck.deal())\n",
    "    player_hand.add_card(deck.deal())\n",
    "    \n",
    "    dealer_hand = Hand()\n",
    "    dealer_hand.add_card(deck.deal())\n",
    "    dealer_hand.add_card(deck.deal())\n",
    "            \n",
    "    # Set up the Player's chips\n",
    "    player_chips = Chips()  # the default value is 100    \n",
    "    \n",
    "    # Prompt the Player for their bet\n",
    "    take_bet(player_chips)\n",
    "    \n",
    "    # Show cards (but keep one dealer card hidden)\n",
    "    show_some(player_hand,dealer_hand)\n",
    "    \n",
    "    while playing:\n",
    "        \n",
    "        # Prompt for Player to Hit or Stand\n",
    "        hit_or_stand(deck,player_hand) \n",
    "        \n",
    "        # Show cards (but keep one dealer card hidden)\n",
    "        show_some(player_hand,dealer_hand)  \n",
    "        \n",
    "        # If player's hand exceeds 21, run player_busts() and break out of loop\n",
    "        if player_hand.total_value > 21:\n",
    "            player_busts(player_hand,dealer_hand,player_chips)\n",
    "            break\n",
    "\n",
    "    # If Player hasn't busted, play Dealer's hand until Dealer reaches 17 \n",
    "    if player_hand.total_value <= 21:\n",
    "        \n",
    "        while dealer_hand.total_value < 17:\n",
    "            hit(deck,dealer_hand)    \n",
    "    \n",
    "        # Show all cards\n",
    "        show_all(player_hand,dealer_hand)\n",
    "        \n",
    "        # Run different winning scenarios\n",
    "        if dealer_hand.total_value > 21:\n",
    "            dealer_busts(player_hand,dealer_hand,player_chips)\n",
    "\n",
    "        elif dealer_hand.total_value > player_hand.total_value:\n",
    "            dealer_wins(player_hand,dealer_hand,player_chips)\n",
    "\n",
    "        elif dealer_hand.total_value < player_hand.total_value:\n",
    "            player_wins(player_hand,dealer_hand,player_chips)\n",
    "\n",
    "        else:\n",
    "            push(player_hand,dealer_hand)        \n",
    "    \n",
    "    # Inform Player of their chips total \n",
    "    print(\"\\nPlayer's winnings stand at\",player_chips.total)\n",
    "    \n",
    "    # Ask to play again\n",
    "    new_game = input(\"Would you like to play another hand? Enter 'y' or 'n' \")\n",
    "    \n",
    "    if new_game[0].lower()=='y':\n",
    "        playing=True\n",
    "        continue\n",
    "    else:\n",
    "        print(\"Thanks for playing!\")\n",
    "        break"
   ]
  }
 ],
 "metadata": {
  "kernelspec": {
   "display_name": "Python 3",
   "language": "python",
   "name": "python3"
  },
  "language_info": {
   "codemirror_mode": {
    "name": "ipython",
    "version": 3
   },
   "file_extension": ".py",
   "mimetype": "text/x-python",
   "name": "python",
   "nbconvert_exporter": "python",
   "pygments_lexer": "ipython3",
   "version": "3.8.8"
  }
 },
 "nbformat": 4,
 "nbformat_minor": 5
}
